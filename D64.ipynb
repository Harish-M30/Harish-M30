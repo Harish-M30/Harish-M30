{
  "nbformat": 4,
  "nbformat_minor": 0,
  "metadata": {
    "colab": {
      "provenance": [],
      "authorship_tag": "ABX9TyNgbHpDRg8nHCXAL/VOq6oL",
      "include_colab_link": true
    },
    "kernelspec": {
      "name": "python3",
      "display_name": "Python 3"
    },
    "language_info": {
      "name": "python"
    }
  },
  "cells": [
    {
      "cell_type": "markdown",
      "metadata": {
        "id": "view-in-github",
        "colab_type": "text"
      },
      "source": [
        "<a href=\"https://colab.research.google.com/github/Harish-M30/Harish-M30/blob/main/D64.ipynb\" target=\"_parent\"><img src=\"https://colab.research.google.com/assets/colab-badge.svg\" alt=\"Open In Colab\"/></a>"
      ]
    },
    {
      "cell_type": "code",
      "execution_count": null,
      "metadata": {
        "colab": {
          "base_uri": "https://localhost:8080/"
        },
        "id": "2gIUdctgpq2U",
        "outputId": "166796be-3fae-4dd5-ae27-ba9d47600f46"
      },
      "outputs": [
        {
          "output_type": "stream",
          "name": "stdout",
          "text": [
            "[1, 4, 9, 16, 25]\n"
          ]
        }
      ],
      "source": [
        "num = [1,2,3,4,5]\n",
        "sq_num=[]\n",
        "for i in num:\n",
        "  sq_num.append(i*i)\n",
        "print(sq_num)"
      ]
    },
    {
      "cell_type": "code",
      "source": [
        "#List with squares greater than 5 and less than 50\n",
        "num=[1,2,3,4,5,6,7,8,9,10]\n",
        "sq_list = []\n",
        "for i in num:\n",
        "  if((i*i)>5 and (i*i)<50):\n",
        "    sq_list.append(i*i)\n",
        "print(sq_list)"
      ],
      "metadata": {
        "colab": {
          "base_uri": "https://localhost:8080/"
        },
        "id": "rzBl3GJruLQA",
        "outputId": "6cf1a767-faa2-41ab-d78f-592352a93f5a"
      },
      "execution_count": null,
      "outputs": [
        {
          "output_type": "stream",
          "name": "stdout",
          "text": [
            "[9, 16, 25, 36, 49]\n"
          ]
        }
      ]
    },
    {
      "cell_type": "code",
      "source": [
        "#Tuples:\n",
        "first_tuple=(\"Maruti\", \"Tata\", 1,2,3, True, False)\n",
        "first_list = list(first_tuple)\n",
        "first_list\n",
        "first_list[0] = \"Maruti Suzuki\"\n",
        "print(first_list)"
      ],
      "metadata": {
        "colab": {
          "base_uri": "https://localhost:8080/"
        },
        "id": "Njn4wiy1vq_4",
        "outputId": "cdb40f5c-5cfb-4e93-cd20-3a07c1564c66"
      },
      "execution_count": null,
      "outputs": [
        {
          "output_type": "stream",
          "name": "stdout",
          "text": [
            "['Maruti Suzuki', 'Tata', 1, 2, 3, True, False]\n",
            "Maruti Suzuki\n",
            "Tata\n",
            "1\n",
            "2\n",
            "3\n",
            "True\n",
            "False\n"
          ]
        }
      ]
    },
    {
      "cell_type": "code",
      "source": [
        "#for i in comp_list:\n",
        "  #print(i)\n",
        "\n",
        "new_comp = ('suzuki','honda','fiat','volvo','M&M')\n",
        "comp_list = (\"Maruti suzuki\", \"Mahindra\", \"Adani\", \"Tata\")\n",
        "new_complist = list(new_comp)\n",
        "comp=list(comp_list)\n",
        "new_tuple = tuple(new_complist+comp)\n",
        "print(new_tuple)"
      ],
      "metadata": {
        "colab": {
          "base_uri": "https://localhost:8080/"
        },
        "id": "hf3272fJzfjG",
        "outputId": "c04a3fa1-a825-4ce3-da17-2e7f415ef53c"
      },
      "execution_count": null,
      "outputs": [
        {
          "output_type": "stream",
          "name": "stdout",
          "text": [
            "('suzuki', 'honda', 'fiat', 'volvo', 'M&M', 'Maruti suzuki', 'Mahindra', 'Adani', 'Tata')\n"
          ]
        }
      ]
    },
    {
      "cell_type": "code",
      "source": [
        "#Sets\n",
        "set1 = set(new_tuple)\n",
        "print(set1)\n",
        "for i in set1:\n",
        "  print(i)\n",
        "\n",
        "## Adding an element to set\n",
        "set1.add(\"Birla\")\n",
        "print(set1)\n",
        "set2 = {\"guvi\",\"Jini\"}\n",
        "set1.update(set2)\n",
        "print(set1)\n",
        "set1.remove('Jini')\n",
        "print(set1)\n",
        "set3= {'ceo1','ceo2', 'ceo3'}\n",
        "set4 = set1.union(set3)\n",
        "print(set4)"
      ],
      "metadata": {
        "colab": {
          "base_uri": "https://localhost:8080/"
        },
        "id": "Xkuwe8fn01c0",
        "outputId": "717ee46a-a7df-4b37-87d4-ab721f378ee2"
      },
      "execution_count": null,
      "outputs": [
        {
          "output_type": "stream",
          "name": "stdout",
          "text": [
            "{'suzuki', 'Tata', 'Adani', 'volvo', 'honda', 'Mahindra', 'fiat', 'Maruti suzuki', 'M&M'}\n",
            "suzuki\n",
            "Tata\n",
            "Adani\n",
            "volvo\n",
            "honda\n",
            "Mahindra\n",
            "fiat\n",
            "Maruti suzuki\n",
            "M&M\n",
            "{'suzuki', 'Tata', 'Adani', 'volvo', 'honda', 'Mahindra', 'Birla', 'fiat', 'Maruti suzuki', 'M&M'}\n",
            "{'guvi', 'suzuki', 'Tata', 'Adani', 'volvo', 'Jini', 'honda', 'Mahindra', 'Birla', 'fiat', 'Maruti suzuki', 'M&M'}\n",
            "{'guvi', 'suzuki', 'Tata', 'Adani', 'volvo', 'honda', 'Mahindra', 'Birla', 'fiat', 'Maruti suzuki', 'M&M'}\n",
            "{'guvi', 'suzuki', 'ceo3', 'Tata', 'Adani', 'volvo', 'M&M', 'ceo1', 'Mahindra', 'ceo2', 'Birla', 'fiat', 'Maruti suzuki', 'honda'}\n"
          ]
        }
      ]
    },
    {
      "cell_type": "code",
      "source": [
        "#Dictionary:\n",
        "dictt = {'Name':\"Harish\", \"Roll-no\": 23, \"Age\": 26}\n",
        "print(dictt)\n",
        "print(dictt[\"Name\"])\n",
        "new_dictt = {\"Suzuki\":\"Car\", 'Model':2010, \"Year\":['2010','2011','2012','2013','2014']}\n",
        "print(new_dictt)\n",
        "\n",
        "for key in dictt.keys():\n",
        "  print(key)\n",
        "for value in dictt.values():\n",
        "  print(value)\n",
        "for key,value in dictt.items():\n",
        "  print(key)\n",
        "  print(value)"
      ],
      "metadata": {
        "colab": {
          "base_uri": "https://localhost:8080/"
        },
        "id": "VbsWHZyH5wCF",
        "outputId": "a6e78984-b1fc-49d6-bfe0-917b3815f975"
      },
      "execution_count": null,
      "outputs": [
        {
          "output_type": "stream",
          "name": "stdout",
          "text": [
            "{'Name': 'Harish', 'Roll-no': 23, 'Age': 26}\n",
            "Harish\n",
            "{'Suzuki': 'Car', 'Model': 2010, 'Year': ['2010', '2011', '2012', '2013', '2014']}\n",
            "Name\n",
            "Roll-no\n",
            "Age\n",
            "Harish\n",
            "23\n",
            "26\n",
            "Name\n",
            "Harish\n",
            "Roll-no\n",
            "23\n",
            "Age\n",
            "26\n"
          ]
        }
      ]
    },
    {
      "cell_type": "code",
      "source": [
        "thisdict = {\"suzuki\":{\"car\":\"hatchback\"},\"model\":{\"year\":['2010','2011','2013','2024']},'year':'2022','hp':95}\n",
        "thisdict['model']['year'][3] = '2022'\n",
        "print(thisdict)"
      ],
      "metadata": {
        "colab": {
          "base_uri": "https://localhost:8080/"
        },
        "id": "DCt1w5q0_tKj",
        "outputId": "e83a9aa6-9588-4d6d-fcec-5f344837da3a"
      },
      "execution_count": null,
      "outputs": [
        {
          "output_type": "stream",
          "name": "stdout",
          "text": [
            "{'suzuki': {'car': 'hatchback'}, 'model': {'year': ['2010', '2011', '2013', '2022']}, 'year': '2022', 'hp': 95}\n"
          ]
        }
      ]
    },
    {
      "cell_type": "code",
      "source": [
        "#Conditionals\n",
        "a=30\n",
        "b=20\n",
        "Sum=a+b\n",
        "if(Sum>50):\n",
        "  print(Sum)\n",
        "else:\n",
        "  break"
      ],
      "metadata": {
        "id": "SiFAzWhfB6Ya"
      },
      "execution_count": null,
      "outputs": []
    },
    {
      "cell_type": "code",
      "source": [
        "marks = float(input())\n",
        "if(marks>80):\n",
        "  print(\"Grade A\")\n",
        "elif(marks>70 and marks<=80):\n",
        "  print(\"Grade B\")\n",
        "else:\n",
        "  print(\"Grade C\")"
      ],
      "metadata": {
        "colab": {
          "base_uri": "https://localhost:8080/"
        },
        "id": "aU4Ycu4iEQCS",
        "outputId": "c5608837-6df1-4c1a-a8db-cfd8e443d268"
      },
      "execution_count": null,
      "outputs": [
        {
          "output_type": "stream",
          "name": "stdout",
          "text": [
            "82.5\n",
            "Grade A\n"
          ]
        }
      ]
    },
    {
      "cell_type": "code",
      "source": [
        "#Permutations\n",
        "\n",
        "drink = [\"water\",\"tea\",\"Juice\"]\n",
        "food=[\"Dosa\",\"Chole\",\"Dhokla\",\"Mango\"]\n",
        "possible_choices=[]\n",
        "for i in drink:\n",
        "  for j in food:\n",
        "    a=i,j\n",
        "    possible_choices.append(a)\n",
        "print(possible_choices)"
      ],
      "metadata": {
        "colab": {
          "base_uri": "https://localhost:8080/"
        },
        "id": "krIM4p_tGIpy",
        "outputId": "a780d8b3-5670-4ff1-8dd4-4a6d8aa924a8"
      },
      "execution_count": null,
      "outputs": [
        {
          "output_type": "stream",
          "name": "stdout",
          "text": [
            "[('water', 'Dosa'), ('water', 'Chole'), ('water', 'Dhokla'), ('water', 'Mango'), ('tea', 'Dosa'), ('tea', 'Chole'), ('tea', 'Dhokla'), ('tea', 'Mango'), ('Juice', 'Dosa'), ('Juice', 'Chole'), ('Juice', 'Dhokla'), ('Juice', 'Mango')]\n"
          ]
        }
      ]
    },
    {
      "cell_type": "code",
      "source": [
        "#List comprehension\n",
        "#Syntax: [expression for element in iterable if condition]\n",
        "#        [expression for item in item if condition == True]\n",
        "for i in food:\n",
        "  if i == \"Mango\":\n",
        "    print(food)\n",
        "\n",
        "#Using list comprehension\n",
        "new_food = [food for x in food if x == \"Mango\"]\n",
        "print(new_food)"
      ],
      "metadata": {
        "colab": {
          "base_uri": "https://localhost:8080/"
        },
        "id": "ZCLThl_8IWuY",
        "outputId": "8905c13a-ba95-47e6-adee-2b35a592935b"
      },
      "execution_count": null,
      "outputs": [
        {
          "output_type": "stream",
          "name": "stdout",
          "text": [
            "['Dosa', 'Chole', 'Dhokla', 'Mango']\n",
            "[['Dosa', 'Chole', 'Dhokla', 'Mango']]\n"
          ]
        }
      ]
    },
    {
      "cell_type": "code",
      "source": [
        "even_list = [i for i in range(1,51) if i%2==0]\n",
        "print(even_list)"
      ],
      "metadata": {
        "colab": {
          "base_uri": "https://localhost:8080/"
        },
        "id": "vVIcZFHs0QYA",
        "outputId": "26e18ef3-f013-4622-a4b4-b5010c86d441"
      },
      "execution_count": null,
      "outputs": [
        {
          "output_type": "stream",
          "name": "stdout",
          "text": [
            "[2, 4, 6, 8, 10, 12, 14, 16, 18, 20, 22, 24, 26, 28, 30, 32, 34, 36, 38, 40, 42, 44, 46, 48, 50]\n"
          ]
        }
      ]
    },
    {
      "cell_type": "code",
      "source": [
        "num_list = [i for i in range(10) if(i<5)]\n",
        "print(num_list)"
      ],
      "metadata": {
        "colab": {
          "base_uri": "https://localhost:8080/"
        },
        "id": "bvD4_bv91jhr",
        "outputId": "46e48007-1500-45f9-fd43-1d1f5982708e"
      },
      "execution_count": null,
      "outputs": [
        {
          "output_type": "stream",
          "name": "stdout",
          "text": [
            "[0, 1, 2, 3, 4]\n"
          ]
        }
      ]
    },
    {
      "cell_type": "code",
      "source": [
        "sq_num = [(i*i) for i in range(1,11)]\n",
        "print(sq_num)"
      ],
      "metadata": {
        "colab": {
          "base_uri": "https://localhost:8080/"
        },
        "id": "Asr2yV0u2HVD",
        "outputId": "9a143287-536c-4fb9-a05c-99a0db37d938"
      },
      "execution_count": null,
      "outputs": [
        {
          "output_type": "stream",
          "name": "stdout",
          "text": [
            "[1, 4, 9, 16, 25, 36, 49, 64, 81, 100]\n"
          ]
        }
      ]
    },
    {
      "cell_type": "code",
      "source": [
        "stri = ['Abhijith',\"aakash\",\"Anbazhagan\",\"Lakshmi\",\"Prabhakaran\",\"Pranali\",\"Vel\"]\n",
        "new_str = [i for i in stri if len(i)>5]\n",
        "print(new_str)"
      ],
      "metadata": {
        "colab": {
          "base_uri": "https://localhost:8080/"
        },
        "id": "xgzfciNe3N7x",
        "outputId": "011e4930-610a-4e60-cb49-3da658cadd9b"
      },
      "execution_count": null,
      "outputs": [
        {
          "output_type": "stream",
          "name": "stdout",
          "text": [
            "['Abhijith', 'aakash', 'Anbazhagan', 'Lakshmi', 'Prabhakaran', 'Pranali']\n"
          ]
        }
      ]
    },
    {
      "cell_type": "code",
      "source": [
        "c=0\n",
        "c=[c+1 for i in stri if len(i)>5]\n",
        "print(c)"
      ],
      "metadata": {
        "colab": {
          "base_uri": "https://localhost:8080/"
        },
        "id": "khULPMHB5OZC",
        "outputId": "d75c63ee-8840-48ca-bf61-5d05c66087ce"
      },
      "execution_count": null,
      "outputs": [
        {
          "output_type": "stream",
          "name": "stdout",
          "text": [
            "[1, 1, 1, 1, 1, 1]\n"
          ]
        }
      ]
    },
    {
      "cell_type": "code",
      "source": [
        "#While Loop and break\n",
        "num=0\n",
        "emplist=[]\n",
        "while num<5:\n",
        "  num = num+1\n",
        "  emplist.append(num)\n",
        "  if num==3:\n",
        "    break\n",
        "print(emplist)"
      ],
      "metadata": {
        "colab": {
          "base_uri": "https://localhost:8080/"
        },
        "id": "eTTVpxGo6JA2",
        "outputId": "a048633a-639d-4388-ceb2-4cdd39288d6a"
      },
      "execution_count": null,
      "outputs": [
        {
          "output_type": "stream",
          "name": "stdout",
          "text": [
            "[1, 2, 3]\n"
          ]
        }
      ]
    },
    {
      "cell_type": "code",
      "source": [
        "Sum=0\n",
        "for i in range(10,31,10):\n",
        "  Sum = Sum+i\n",
        "Avg=Sum/3\n",
        "print(Avg)"
      ],
      "metadata": {
        "colab": {
          "base_uri": "https://localhost:8080/"
        },
        "id": "2fm9vAYp7V4J",
        "outputId": "708d55a0-4c4c-45da-b25c-22505ca374d9"
      },
      "execution_count": null,
      "outputs": [
        {
          "output_type": "stream",
          "name": "stdout",
          "text": [
            "20.0\n"
          ]
        }
      ]
    },
    {
      "cell_type": "code",
      "source": [
        "#FUnction to add 2 numbers:\n",
        "def add_fun(a,b):\n",
        "  return(a+b)\n",
        "c=add_fun(10,13)\n",
        "print(c)"
      ],
      "metadata": {
        "colab": {
          "base_uri": "https://localhost:8080/"
        },
        "id": "dZxs_oYjADqi",
        "outputId": "06d8c85c-712c-49d7-b582-3672cebcaad9"
      },
      "execution_count": null,
      "outputs": [
        {
          "output_type": "stream",
          "name": "stdout",
          "text": [
            "23\n"
          ]
        }
      ]
    },
    {
      "cell_type": "code",
      "source": [
        "def func(num):\n",
        "  new_list=[]\n",
        "  new_list.append(num)"
      ],
      "metadata": {
        "id": "4vVxHYRmDScL"
      },
      "execution_count": null,
      "outputs": []
    },
    {
      "cell_type": "code",
      "source": [
        "#Lambda function\n",
        "mul = lambda x,y: x*y\n",
        "print(mul(19,19))"
      ],
      "metadata": {
        "colab": {
          "base_uri": "https://localhost:8080/"
        },
        "id": "XGzBH6scEWWI",
        "outputId": "2731dfa3-22ea-4c0f-f638-28075aa1513a"
      },
      "execution_count": null,
      "outputs": [
        {
          "output_type": "stream",
          "name": "stdout",
          "text": [
            "361\n"
          ]
        }
      ]
    },
    {
      "cell_type": "code",
      "source": [
        "#Print square of numbers using lambda function\n",
        "l=[1,2,3,4,5]\n",
        "sq_list=[]\n",
        "for i in l:\n",
        "  sq=lambda i:i*i\n",
        "  sq_list.append(sq)\n",
        "print(sq_list)"
      ],
      "metadata": {
        "colab": {
          "base_uri": "https://localhost:8080/"
        },
        "id": "1ijkaJMUEv7i",
        "outputId": "cc14ebbe-3c4b-4040-a77f-a7cf9400ad8e"
      },
      "execution_count": null,
      "outputs": [
        {
          "output_type": "stream",
          "name": "stdout",
          "text": [
            "[<function <lambda> at 0x7f52290ed3a0>, <function <lambda> at 0x7f52290edf70>, <function <lambda> at 0x7f52290ed670>, <function <lambda> at 0x7f52290edee0>, <function <lambda> at 0x7f52290ed4c0>]\n"
          ]
        }
      ]
    }
  ]
}