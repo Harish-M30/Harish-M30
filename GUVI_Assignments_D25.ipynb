{
  "nbformat": 4,
  "nbformat_minor": 0,
  "metadata": {
    "colab": {
      "name": "Assignments-D25.ipynb",
      "provenance": [],
      "collapsed_sections": [],
      "authorship_tag": "ABX9TyOu9pKlYyvPOKoQnNahMe3B",
      "include_colab_link": true
    },
    "kernelspec": {
      "name": "python3",
      "display_name": "Python 3"
    },
    "language_info": {
      "name": "python"
    }
  },
  "cells": [
    {
      "cell_type": "markdown",
      "metadata": {
        "id": "view-in-github",
        "colab_type": "text"
      },
      "source": [
        "<a href=\"https://colab.research.google.com/github/Harish-M30/Harish-M30/blob/main/GUVI_Assignments_D25.ipynb\" target=\"_parent\"><img src=\"https://colab.research.google.com/assets/colab-badge.svg\" alt=\"Open In Colab\"/></a>"
      ]
    },
    {
      "cell_type": "code",
      "execution_count": null,
      "metadata": {
        "colab": {
          "base_uri": "https://localhost:8080/"
        },
        "id": "xkH2EYsOHRH6",
        "outputId": "90c9bc56-55bb-4bb2-813e-b615c26e13ae"
      },
      "outputs": [
        {
          "output_type": "stream",
          "name": "stdout",
          "text": [
            "Enter a number 25\n",
            "The number 25 is odd\n"
          ]
        }
      ],
      "source": [
        "#Python program to check if the given number is even or not\n",
        "num=int(input(\"Enter a number \"))\n",
        "if(num%2==0):\n",
        "  print(\"The number\",num, \"is even\")\n",
        "else:\n",
        "  print(\"The number\",num, \"is odd\")"
      ]
    },
    {
      "cell_type": "code",
      "source": [
        "#Converting Celcius to Fahrenheit\n",
        "ctemp=int(input(\"Enter the temperature in Celcius \"))\n",
        "ftemp=((9/5)*ctemp)+32\n",
        "print('Temp in fahrenheit: ',ftemp)"
      ],
      "metadata": {
        "colab": {
          "base_uri": "https://localhost:8080/"
        },
        "id": "mbwdQNDeTLoy",
        "outputId": "8db30c16-403c-455e-d402-b3f79d92a21c"
      },
      "execution_count": null,
      "outputs": [
        {
          "output_type": "stream",
          "name": "stdout",
          "text": [
            "Enter the temperature in Celcius 14\n",
            "Temp in fahrenheit:  57.2\n"
          ]
        }
      ]
    },
    {
      "cell_type": "code",
      "source": [
        "#Product of set of real numbers\n",
        "p=1\n",
        "se=set()\n",
        "slen=int(input(\"Enter the number of elements in a set \"))\n",
        "for i in range(slen):\n",
        "  se.add(float(input(\"Enter the elements of a set \")))\n",
        "  #p=p*int(s)\n",
        "#print(p)\n",
        "print(se)\n",
        "for i in se:\n",
        "  p=p*i\n",
        "print(p)"
      ],
      "metadata": {
        "colab": {
          "base_uri": "https://localhost:8080/"
        },
        "id": "w-46xo2BTmVN",
        "outputId": "22ed9f35-f41d-4cae-f0cf-038aa54bebcf"
      },
      "execution_count": null,
      "outputs": [
        {
          "output_type": "stream",
          "name": "stdout",
          "text": [
            "Enter the number of elements in a set 4\n",
            "Enter the elements of a set -5\n",
            "Enter the elements of a set 6\n",
            "Enter the elements of a set 3\n",
            "Enter the elements of a set 2\n",
            "{3.0, 2.0, -5.0, 6.0}\n",
            "-180.0\n"
          ]
        }
      ]
    },
    {
      "cell_type": "code",
      "source": [
        "#Factorial of a number using recursive function\n",
        "def factorial(n):\n",
        "  if (n==0 or n==1):\n",
        "    return 1\n",
        "  else:\n",
        "    return (n*factorial(n-1))\n",
        "\n",
        "num=int(input(\"Enter a number to find the factorial \"))\n",
        "print(\"The factorial of\", num , 'is ',factorial(num))"
      ],
      "metadata": {
        "colab": {
          "base_uri": "https://localhost:8080/"
        },
        "id": "vrEfTalQC6ii",
        "outputId": "e024354b-45d2-445b-872a-83522710b68f"
      },
      "execution_count": null,
      "outputs": [
        {
          "output_type": "stream",
          "name": "stdout",
          "text": [
            "Enter a number to find the factorial 9\n",
            "The factorial of 9 is  362880\n"
          ]
        }
      ]
    },
    {
      "cell_type": "code",
      "source": [
        "#Linear search\n",
        "num_to_search = int(input(\"Enter the number to search \"))\n",
        "l=list()\n",
        "list_len = int(input(\"Enter the number of elements in the list \"))\n",
        "for i in range(list_len):\n",
        "  l.append(int(input(\"Enter the elements of the list \")))\n",
        "#for i in range(len(l)):\n",
        "if num_to_search in l:\n",
        "  print(\"The number \",num_to_search ,\"is present\")\n",
        "else:\n",
        "  print(\"The number \",num_to_search ,\"is not present\")\n",
        "\n",
        "#print(l)"
      ],
      "metadata": {
        "colab": {
          "base_uri": "https://localhost:8080/"
        },
        "id": "6RmkwFTJTdUb",
        "outputId": "02184d69-8132-4932-f254-3329662da2f2"
      },
      "execution_count": null,
      "outputs": [
        {
          "output_type": "stream",
          "name": "stdout",
          "text": [
            "Enter the number to search 5\n",
            "Enter the number of elements in the list 6\n",
            "Enter the elements of the list3\n",
            "Enter the elements of the list5\n",
            "Enter the elements of the list6\n",
            "Enter the elements of the list4\n",
            "Enter the elements of the list3\n",
            "Enter the elements of the list2\n",
            "The number  5 is present\n"
          ]
        }
      ]
    },
    {
      "cell_type": "code",
      "source": [
        "#Binary search\n",
        "def binary_search(my_list, elem):\n",
        "   low = 0\n",
        "   high = len(my_list) - 1\n",
        "   mid = 0\n",
        "   while low <= high:\n",
        "      mid = (high + low) // 2\n",
        "      if my_list[mid] < elem:\n",
        "         low = mid + 1\n",
        "      elif my_list[mid] > elem:\n",
        "         high = mid - 1\n",
        "      else:\n",
        "         return mid\n",
        "   return -1\n",
        "\n",
        "n_to_ser = int(input(\"Enter the number to search \"))\n",
        "li=list()\n",
        "li_len = int(input(\"Enter the number of the elements in the list \"))\n",
        "for i in range(li_len):\n",
        "  li.append(int(input(\"Enter the elements in the list: \")))\n",
        "#print(li)\n",
        "li.sort()\n",
        "print(li)\n",
        "result=binary_search(li,n_to_ser)\n",
        "\n",
        "if result!= -1:\n",
        "   print(\"Element found at \",result)\n",
        "else:\n",
        "   print(\"Element not found!\")"
      ],
      "metadata": {
        "id": "E4p1YraUys-o",
        "colab": {
          "base_uri": "https://localhost:8080/"
        },
        "outputId": "f3fd3655-3514-4928-ef65-2c2942098857"
      },
      "execution_count": 17,
      "outputs": [
        {
          "output_type": "stream",
          "name": "stdout",
          "text": [
            "Enter the number to search 5\n",
            "Enter the number of the elements in the list 5\n",
            "Enter the elements in the list: 1\n",
            "Enter the elements in the list: 2\n",
            "Enter the elements in the list: 3\n",
            "Enter the elements in the list: 4\n",
            "Enter the elements in the list: 5\n",
            "[1, 2, 3, 4, 5]\n",
            "Element found at  4\n"
          ]
        }
      ]
    },
    {
      "cell_type": "code",
      "source": [
        "#Biggest Number in a list without using buil-in fuctions\n",
        "l1=list()\n",
        "l1_size=int(input('Enter the size of the list '))\n",
        "for i in range(l1_size):\n",
        "  l1.append(int(input(\"Enter the elements of a list \")))\n",
        "#l1.sort()\n",
        "large=0\n",
        "for i in l1:\n",
        "  if(i>large):\n",
        "    large=i \n",
        "print(\"The lasrgest number is \", large)\n",
        "#print(\"The sorted list is \",l1)\n",
        "#biggest_number = l1[(l1_size-1)]\n",
        "#print(\"The biggest number of the list is \", biggest_number)"
      ],
      "metadata": {
        "colab": {
          "base_uri": "https://localhost:8080/"
        },
        "id": "Zjcyefyjmv5a",
        "outputId": "b18178a0-e7c4-4fd6-ceb0-339644185c18"
      },
      "execution_count": 21,
      "outputs": [
        {
          "output_type": "stream",
          "name": "stdout",
          "text": [
            "Enter the size of the list 5\n",
            "Enter the elements of a list 21\n",
            "Enter the elements of a list 156\n",
            "Enter the elements of a list 778\n",
            "Enter the elements of a list 99546\n",
            "Enter the elements of a list 68542\n",
            "The lasrgest number is  99546\n"
          ]
        }
      ]
    },
    {
      "cell_type": "code",
      "source": [
        "#Delete an element in a list by index\n",
        "list_size = int(input(\"Enter the size of the list \"))\n",
        "lis=list()\n",
        "for i in range(list_size):\n",
        "  lis.append(int(input(\"Enter the elements of the list \")))\n",
        "print(lis)\n",
        "del_id = int(input(\"Enter the index to be deleted \"))\n",
        "if (del_id<len(lis)):\n",
        "  lis.pop(del_id)\n",
        "  print(\"Updated list is \",lis)\n",
        "else:\n",
        "  print(\"The index is wrong, Updated list is \",lis)"
      ],
      "metadata": {
        "colab": {
          "base_uri": "https://localhost:8080/"
        },
        "id": "D2PUR8W47F6t",
        "outputId": "8a158682-0f02-46b6-f05f-dab35bd8e527"
      },
      "execution_count": 2,
      "outputs": [
        {
          "output_type": "stream",
          "name": "stdout",
          "text": [
            "Enter the size of the list 6\n",
            "Enter the elements of the list 5\n",
            "Enter the elements of the list 88\n",
            "Enter the elements of the list 99\n",
            "Enter the elements of the list 32\n",
            "Enter the elements of the list 54\n",
            "Enter the elements of the list 65\n",
            "[5, 88, 99, 32, 54, 65]\n",
            "Enter the index to be deleted 7\n",
            "The index is wrong, Updated list is  [5, 88, 99, 32, 54, 65]\n"
          ]
        }
      ]
    },
    {
      "cell_type": "code",
      "source": [
        "#Print all items in a dictionary\n",
        "my_dict={\"Name\":[\"Varun\",\"Suresh\"],\"Age\":[23,32],\"Emp_Id\":[10112,10114]}\n",
        "#print(my_dict)\n",
        "for i,j in (my_dict.items()):\n",
        "  print(i, ':', j )"
      ],
      "metadata": {
        "colab": {
          "base_uri": "https://localhost:8080/"
        },
        "id": "g-ICJmTdxfQT",
        "outputId": "e0df0b82-5813-4589-9d14-aba413c3ed78"
      },
      "execution_count": 13,
      "outputs": [
        {
          "output_type": "stream",
          "name": "stdout",
          "text": [
            "Name : ['Varun', 'Suresh']\n",
            "Age : [23, 32]\n",
            "Emp_Id : [10112, 10114]\n"
          ]
        }
      ]
    },
    {
      "cell_type": "code",
      "source": [
        "#Find the average of 10 numbers using while loop\n",
        "arr=list()\n",
        "j=0\n",
        "sum=0.0\n",
        "for i in range(1,10):\n",
        "  arr.append(int(i))\n",
        "print(arr)\n",
        "while(j<len(arr)):\n",
        "  sum = sum + arr[j]\n",
        "  j=j+1\n",
        "avg=sum/len(arr)\n",
        "print(\"The average is \", avg)"
      ],
      "metadata": {
        "colab": {
          "base_uri": "https://localhost:8080/"
        },
        "id": "KwDX4WIb78xX",
        "outputId": "9aaffcea-58da-42e9-9e59-8fa668416db8"
      },
      "execution_count": 18,
      "outputs": [
        {
          "output_type": "stream",
          "name": "stdout",
          "text": [
            "[1, 2, 3, 4, 5, 6, 7, 8, 9]\n",
            "The average is  5.0\n"
          ]
        }
      ]
    }
  ]
}